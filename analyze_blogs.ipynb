{
  "cells": [
    {
      "cell_type": "markdown",
      "metadata": {
        "id": "IfeeK6JJ5OXt"
      },
      "source": [
        "## Libraries"
      ]
    },
    {
      "cell_type": "code",
      "execution_count": 25,
      "metadata": {
        "vscode": {
          "languageId": "plaintext"
        },
        "id": "BFsqgr8W5OXw"
      },
      "outputs": [],
      "source": [
        "import numpy as np\n",
        "import pandas as pd\n",
        "from gensim import corpora, models\n",
        "import spacy\n",
        "from spacy.lang.en import stop_words\n",
        "from tqdm import tqdm\n",
        "from transformers import pipeline\n",
        "import matplotlib.pyplot as plt\n",
        "\n",
        "tqdm.pandas()\n",
        "\n",
        "# !python -m spacy download en_core_web_md\n",
        "nlp = spacy.load(\"en_core_web_md\")"
      ]
    },
    {
      "cell_type": "markdown",
      "metadata": {
        "id": "3fzVmVrx5OXx"
      },
      "source": [
        "## Preprocess text"
      ]
    },
    {
      "cell_type": "markdown",
      "source": [
        "### Filter out non-English documents"
      ],
      "metadata": {
        "id": "ZcoIJ2rExoNZ"
      }
    },
    {
      "cell_type": "code",
      "source": [
        "# https://huggingface.co/papluca/xlm-roberta-base-language-detection\n",
        "model_ckpt = \"papluca/xlm-roberta-base-language-detection\"\n",
        "pipe = pipeline(\"text-classification\", model=model_ckpt)\n",
        "\n",
        "df_blogs = pd.read_csv(\"blogs.csv\").dropna(subset=\"blog\")\n",
        "for i, row in tqdm(df_blogs.iterrows()):\n",
        "    blog = row[\"blog\"]\n",
        "\n",
        "    blog = blog.strip()\n",
        "    lang = pipe(blog, truncation=True)\n",
        "\n",
        "    df_blogs.loc[i, \"blog\"] = blog\n",
        "    df_blogs.loc[i, \"lang\"] = lang[0][\"label\"]\n",
        "\n",
        "df_blogs = df_blogs[df_blogs[\"lang\"] == \"en\"]\n",
        "df_blogs.to_csv(\"blogs.csv\")"
      ],
      "metadata": {
        "colab": {
          "base_uri": "https://localhost:8080/"
        },
        "id": "axOe9Lm1wYOc",
        "outputId": "3982f721-0e45-40b6-bc70-017c79e6f123"
      },
      "execution_count": 20,
      "outputs": [
        {
          "output_type": "stream",
          "name": "stderr",
          "text": [
            "Device set to use cpu\n",
            "3138it [58:25,  1.12s/it]\n"
          ]
        }
      ]
    },
    {
      "cell_type": "markdown",
      "source": [
        "### Apply standard preprocessing"
      ],
      "metadata": {
        "id": "v0w8f8f_xtQd"
      }
    },
    {
      "cell_type": "code",
      "source": [
        "stop_words_to_use = list(stop_words.STOP_WORDS)\n",
        "stop_words_to_use += [\"ride\", \"rides\", \"riding\", \"cycling\", \"bycycling\", \"tour\", \"touring\", \"day\", \"bike\", \"bikes\", \"road\", \"get\", \"go\", \"mile\", \"miles\", \"km\", \"kms\", \"metre\", \"like\", \"way\", \"good\", \"come\", \"look\", \"nice\", \"think\", \"trip\", \"know\", \"see\", \"great\", \"today\", \"distance\", \"malawi\", \"zambia\", \"auckland\", \"strasbourg\", \"pyrenees\", \"bordeaux\", \"andorra\", \"paris\", \"france\"]"
      ],
      "metadata": {
        "id": "uVIxznLdkRqf"
      },
      "execution_count": 70,
      "outputs": []
    },
    {
      "cell_type": "code",
      "execution_count": 38,
      "metadata": {
        "vscode": {
          "languageId": "plaintext"
        },
        "id": "d4ismve05OXy"
      },
      "outputs": [],
      "source": [
        "# https://spacy.io/usage/linguistic-features\n",
        "\n",
        "\n",
        "def preprocess_text(file_path, nlp, stop_word_removal=True, non_alpha_removal=True, lemmatization=True, lowercasing=True, stop_words_to_use=[]):\n",
        "    df_blogs = pd.read_csv(file_path)\n",
        "    documents = []\n",
        "\n",
        "    for i, row in tqdm(df_blogs.iterrows()):\n",
        "        doc = nlp(row[\"blog\"]) # Convert to spaCy doc\n",
        "\n",
        "        if len(doc) > 1:\n",
        "            if non_alpha_removal: # Remove non alpha characters\n",
        "                doc = [token for token in doc if token.is_alpha]\n",
        "\n",
        "            if lemmatization: # Lemmatize words\n",
        "                doc = [token.lemma_ for token in doc]\n",
        "\n",
        "            if stop_word_removal: # Remove stop words\n",
        "                doc = [token for token in doc if token not in stop_words_to_use]\n",
        "\n",
        "            if lowercasing: # Lowercase words\n",
        "                doc = [token.lower() for token in doc]\n",
        "\n",
        "            documents.append(doc)\n",
        "\n",
        "    # https://radimrehurek.com/gensim/auto_examples/core/run_corpora_and_vector_spaces.html\n",
        "    dictionary = corpora.Dictionary(documents)\n",
        "    dictionary.filter_extremes(no_below=2) # Filter out tokens appearing only once\n",
        "    corpus = [dictionary.doc2bow(doc) for doc in documents]\n",
        "\n",
        "    dictionary.save(\"dictionary.dict\")\n",
        "    corpora.MmCorpus.serialize(\"corpus.mm\", corpus)\n",
        "\n",
        "\n",
        "preprocess_text(\"blogs.csv\", nlp, stop_words_to_use=stop_words_to_use)\n"
      ]
    },
    {
      "cell_type": "markdown",
      "source": [
        "## Explore dictionary"
      ],
      "metadata": {
        "id": "Dfn7rYdO8N5J"
      }
    },
    {
      "cell_type": "code",
      "execution_count": 22,
      "metadata": {
        "vscode": {
          "languageId": "plaintext"
        },
        "id": "echHEMnu5OXz",
        "outputId": "da1cc04e-4e73-4ebb-9cac-d887d3739f59",
        "colab": {
          "base_uri": "https://localhost:8080/"
        }
      },
      "outputs": [
        {
          "output_type": "stream",
          "name": "stdout",
          "text": [
            "stop\n",
            "town\n",
            "find\n",
            "start\n",
            "hill\n",
            "head\n",
            "little\n",
            "leave\n",
            "pass\n",
            "place\n",
            "night\n",
            "turn\n",
            "long\n",
            "wind\n",
            "rain\n",
            "people\n",
            "lot\n",
            "climb\n",
            "right\n",
            "park\n",
            "feel\n",
            "route\n",
            "big\n",
            "hour\n",
            "river\n",
            "water\n",
            "bit\n",
            "want\n",
            "tell\n",
            "thing\n",
            "eat\n",
            "end\n",
            "home\n",
            "new\n",
            "stay\n",
            "pretty\n",
            "area\n",
            "camp\n",
            "decide\n",
            "use\n",
            "lunch\n",
            "walk\n",
            "old\n",
            "morning\n",
            "work\n",
            "meet\n",
            "rest\n",
            "try\n",
            "far\n",
            "couple\n"
          ]
        }
      ],
      "source": [
        "# https://radimrehurek.com/gensim/auto_examples/core/run_topics_and_transformations.html\n",
        "dictionary = corpora.Dictionary.load(\"dictionary.dict\")\n",
        "corpus = corpora.MmCorpus(\"corpus.mm\")\n",
        "\n",
        "word_freq = {k: v for k, v in sorted(dictionary.cfs.items(), key=lambda item: item[1], reverse=True)}\n",
        "for id in list(word_freq.keys())[:50]:\n",
        "    print(dictionary[id])"
      ]
    },
    {
      "cell_type": "markdown",
      "source": [
        "## Modelling"
      ],
      "metadata": {
        "id": "2g0kxnG38TLX"
      }
    },
    {
      "cell_type": "code",
      "source": [
        "import logging\n",
        "import re\n",
        "\n",
        "# Allow logging\n",
        "logging.basicConfig(filename='gensim.log', format='%(asctime)s:%(levelname)s:%(message)s', level=logging.INFO)\n",
        "\n",
        "\n",
        "def clear_logfile():\n",
        "    # To empty the log file\n",
        "    with open(\"gensim.log\", \"w\"):\n",
        "        pass\n",
        "\n",
        "\n",
        "def parse_logfile():\n",
        "    \"\"\"Parse gensim.log to extract the log-likelihood scores.\n",
        "\n",
        "    Returns:\n",
        "        A list of log-likelihood scores.\n",
        "    \"\"\"\n",
        "    matcher = re.compile(r'(-*\\d+\\.\\d+) per-word .* (\\d+\\.\\d+) perplexity')\n",
        "    likelihoods = []\n",
        "    with open('gensim.log') as source:\n",
        "        for line in source:\n",
        "            match = matcher.search(line)\n",
        "            if match:\n",
        "                likelihoods.append(float(match.group(1)))\n",
        "    return likelihoods"
      ],
      "metadata": {
        "id": "68ZfkEG4xRka"
      },
      "execution_count": 23,
      "outputs": []
    },
    {
      "cell_type": "markdown",
      "source": [
        "### Modelling"
      ],
      "metadata": {
        "id": "2HkMNr4e_ped"
      }
    },
    {
      "cell_type": "code",
      "source": [
        "tfidf = models.TfidfModel(corpus)\n",
        "corpus_tfidf = tfidf[corpus]\n",
        "\n",
        "# # https://radimrehurek.com/gensim/models/ldamodel.html\n",
        "clear_logfile()\n",
        "lda = models.LdaModel(corpus_tfidf, num_topics=10, id2word=dictionary, passes=100)\n",
        "likelihoods = parse_logfile()\n",
        "\n",
        "# Plot likelihoods for convergence\n",
        "fig, ax = plt.subplots(figsize=(12, 7))\n",
        "ax.plot(likelihoods)\n",
        "ax.set(title=\"LDA Convergence\", xlabel=\"Iteration\", ylabel=\"Log-Likelihood\")\n",
        "\n",
        "# Print most important words per topic\n",
        "topics = lda.get_topics()\n",
        "for topic in range(10):\n",
        "    topic_probs = topics[topic, :]\n",
        "    print(f\"Topic {topic}: {', '.join([dictionary[i] for i in np.argsort(topic_probs)[-10:]])}\")"
      ],
      "metadata": {
        "id": "Ajty4TDm7fwA",
        "outputId": "285e9f10-ec37-4380-9157-614e62bbe2cf",
        "colab": {
          "base_uri": "https://localhost:8080/",
          "height": 820
        }
      },
      "execution_count": 27,
      "outputs": [
        {
          "output_type": "stream",
          "name": "stdout",
          "text": [
            "Topic 0: gum, nugget, excerpt, emu, fossil, ochoco, dayville, sumpter, berea, perth\n",
            "Topic 1: mckinsey, finn, butte, celebration, elevation, beau, gain, encouraging, chester, casino\n",
            "Topic 2: springbrook, simon, rosalia, boone, fairground, brooks, bugger, hillsboro, kg, hobart\n",
            "Topic 3: savour, hangover, faithful, invermere, newcastle, gin, stuart, link, erie, jen\n",
            "Topic 4: ernie, unity, anglesea, marion, carlsbad, spearfish, part, whitefish, waterfront, spain\n",
            "Topic 5: guffey, sprocket, blah, cochrane, barbara, carol, london, â, xmas, ernie\n",
            "Topic 6: sammy, christopher, patrick, bombala, lander, alison, photo, charlottesville, napier, kirby\n",
            "Topic 7: roadside, falls, clark, ern, missouri, anna, texas, flower, joyce, phil\n",
            "Topic 8: melbourne, francois, rotorua, st, jean, h, molly, pj, km, total\n",
            "Topic 9: start, climb, river, find, wind, pass, stop, rain, hill, town\n"
          ]
        },
        {
          "output_type": "display_data",
          "data": {
            "text/plain": [
              "<Figure size 1200x700 with 1 Axes>"
            ],
            "image/png": "[encoded data removed]"
          },
          "metadata": {}
        }
      ]
    },
    {
      "cell_type": "code",
      "source": [
        "# https://maartengr.github.io/BERTopic/getting_started/tips_and_tricks/tips_and_tricks.html\n",
        "# https://maartengr.github.io/BERTopic/getting_started/best_practices/best_practices.html\n",
        "\n",
        "# !pip install bertopic\n",
        "from sentence_transformers import SentenceTransformer\n",
        "from sklearn.feature_extraction.text import CountVectorizer\n",
        "from bertopic.vectorizers import ClassTfidfTransformer\n",
        "from bertopic.representation import KeyBERTInspired\n",
        "from hdbscan import HDBSCAN\n",
        "from bertopic import BERTopic"
      ],
      "metadata": {
        "id": "n-lG-OXc8wXp"
      },
      "execution_count": 58,
      "outputs": []
    },
    {
      "cell_type": "code",
      "source": [
        "df_blogs = df_blogs.reset_index(drop=True)\n",
        "\n",
        "embedding_model = SentenceTransformer(\"all-MiniLM-L6-v2\")\n",
        "embeddings = embedding_model.encode(df_blogs.blog)"
      ],
      "metadata": {
        "id": "L3tzqwGotZp9"
      },
      "execution_count": null,
      "outputs": []
    },
    {
      "cell_type": "code",
      "source": [
        "hdbscan_model = HDBSCAN(min_cluster_size=50) # Clustering step\n",
        "vectorizer_model = CountVectorizer(stop_words=stop_words_to_use) # Tokenizer step\n",
        "ctfidf_model = ClassTfidfTransformer(reduce_frequent_words=True) # c-TF-IDF step\n",
        "representation_model = KeyBERTInspired() # Fine-tuning step\n",
        "topic_model = BERTopic(embedding_model=embedding_model, hdbscan_model=hdbscan_model, vectorizer_model=vectorizer_model, ctfidf_model=ctfidf_model, representation_model=representation_model)\n",
        "topics, probs = topic_model.fit_transform(df_blogs.blog, embeddings)"
      ],
      "metadata": {
        "id": "gMO_5qdApGoc"
      },
      "execution_count": 71,
      "outputs": []
    },
    {
      "cell_type": "code",
      "source": [
        "topic_model.get_topic_info()"
      ],
      "metadata": {
        "id": "5RXKclAfexSR",
        "outputId": "0f68535b-a3f9-417b-a8fd-37631f9f418e",
        "colab": {
          "base_uri": "https://localhost:8080/",
          "height": 143
        }
      },
      "execution_count": 72,
      "outputs": [
        {
          "output_type": "execute_result",
          "data": {
            "text/plain": [
              "   Topic  Count                              Name  \\\n",
              "0     -1   1352     -1_campground_lake_hills_park   \n",
              "1      0   1560   0_trail_highway_park_campground   \n",
              "2      1     55  1_trips_bicycling_biking_bicycle   \n",
              "\n",
              "                                      Representation  \\\n",
              "0  [campground, lake, hills, park, climb, camp, l...   \n",
              "1  [trail, highway, park, campground, downhill, h...   \n",
              "2  [trips, bicycling, biking, bicycle, vacation, ...   \n",
              "\n",
              "                                 Representative_Docs  \n",
              "0  [The Data: Miles: 87.00Time: 8:43:14 (many)Max...  \n",
              "1  [It was real foggy out this morning.   Before ...  \n",
              "2  [My wife wasn't overly thrilled about it;  how...  "
            ],
            "text/html": [
              "\n",
              "  <div id=\"df-f059c39f-fdef-4474-aa90-8b45d9bde437\" class=\"colab-df-container\">\n",
              "    <div>\n",
              "<style scoped>\n",
              "    .dataframe tbody tr th:only-of-type {\n",
              "        vertical-align: middle;\n",
              "    }\n",
              "\n",
              "    .dataframe tbody tr th {\n",
              "        vertical-align: top;\n",
              "    }\n",
              "\n",
              "    .dataframe thead th {\n",
              "        text-align: right;\n",
              "    }\n",
              "</style>\n",
              "<table border=\"1\" class=\"dataframe\">\n",
              "  <thead>\n",
              "    <tr style=\"text-align: right;\">\n",
              "      <th></th>\n",
              "      <th>Topic</th>\n",
              "      <th>Count</th>\n",
              "      <th>Name</th>\n",
              "      <th>Representation</th>\n",
              "      <th>Representative_Docs</th>\n",
              "    </tr>\n",
              "  </thead>\n",
              "  <tbody>\n",
              "    <tr>\n",
              "      <th>0</th>\n",
              "      <td>-1</td>\n",
              "      <td>1352</td>\n",
              "      <td>-1_campground_lake_hills_park</td>\n",
              "      <td>[campground, lake, hills, park, climb, camp, l...</td>\n",
              "      <td>[The Data: Miles: 87.00Time: 8:43:14 (many)Max...</td>\n",
              "    </tr>\n",
              "    <tr>\n",
              "      <th>1</th>\n",
              "      <td>0</td>\n",
              "      <td>1560</td>\n",
              "      <td>0_trail_highway_park_campground</td>\n",
              "      <td>[trail, highway, park, campground, downhill, h...</td>\n",
              "      <td>[It was real foggy out this morning.   Before ...</td>\n",
              "    </tr>\n",
              "    <tr>\n",
              "      <th>2</th>\n",
              "      <td>1</td>\n",
              "      <td>55</td>\n",
              "      <td>1_trips_bicycling_biking_bicycle</td>\n",
              "      <td>[trips, bicycling, biking, bicycle, vacation, ...</td>\n",
              "      <td>[My wife wasn't overly thrilled about it;  how...</td>\n",
              "    </tr>\n",
              "  </tbody>\n",
              "</table>\n",
              "</div>\n",
              "    <div class=\"colab-df-buttons\">\n",
              "\n",
              "  <div class=\"colab-df-container\">\n",
              "    <button class=\"colab-df-convert\" onclick=\"convertToInteractive('df-f059c39f-fdef-4474-aa90-8b45d9bde437')\"\n",
              "            title=\"Convert this dataframe to an interactive table.\"\n",
              "            style=\"display:none;\">\n",
              "\n",
              "  <svg xmlns=\"http://www.w3.org/2000/svg\" height=\"24px\" viewBox=\"0 -960 960 960\">\n",
              "    <path d=\"M120-120v-720h720v720H120Zm60-500h600v-160H180v160Zm220 220h160v-160H400v160Zm0 220h160v-160H400v160ZM180-400h160v-160H180v160Zm440 0h160v-160H620v160ZM180-180h160v-160H180v160Zm440 0h160v-160H620v160Z\"/>\n",
              "  </svg>\n",
              "    </button>\n",
              "\n",
              "  <style>\n",
              "    .colab-df-container {\n",
              "      display:flex;\n",
              "      gap: 12px;\n",
              "    }\n",
              "\n",
              "    .colab-df-convert {\n",
              "      background-color: #E8F0FE;\n",
              "      border: none;\n",
              "      border-radius: 50%;\n",
              "      cursor: pointer;\n",
              "      display: none;\n",
              "      fill: #1967D2;\n",
              "      height: 32px;\n",
              "      padding: 0 0 0 0;\n",
              "      width: 32px;\n",
              "    }\n",
              "\n",
              "    .colab-df-convert:hover {\n",
              "      background-color: #E2EBFA;\n",
              "      box-shadow: 0px 1px 2px rgba(60, 64, 67, 0.3), 0px 1px 3px 1px rgba(60, 64, 67, 0.15);\n",
              "      fill: #174EA6;\n",
              "    }\n",
              "\n",
              "    .colab-df-buttons div {\n",
              "      margin-bottom: 4px;\n",
              "    }\n",
              "\n",
              "    [theme=dark] .colab-df-convert {\n",
              "      background-color: #3B4455;\n",
              "      fill: #D2E3FC;\n",
              "    }\n",
              "\n",
              "    [theme=dark] .colab-df-convert:hover {\n",
              "      background-color: #434B5C;\n",
              "      box-shadow: 0px 1px 3px 1px rgba(0, 0, 0, 0.15);\n",
              "      filter: drop-shadow(0px 1px 2px rgba(0, 0, 0, 0.3));\n",
              "      fill: #FFFFFF;\n",
              "    }\n",
              "  </style>\n",
              "\n",
              "    <script>\n",
              "      const buttonEl =\n",
              "        document.querySelector('#df-f059c39f-fdef-4474-aa90-8b45d9bde437 button.colab-df-convert');\n",
              "      buttonEl.style.display =\n",
              "        google.colab.kernel.accessAllowed ? 'block' : 'none';\n",
              "\n",
              "      async function convertToInteractive(key) {\n",
              "        const element = document.querySelector('#df-f059c39f-fdef-4474-aa90-8b45d9bde437');\n",
              "        const dataTable =\n",
              "          await google.colab.kernel.invokeFunction('convertToInteractive',\n",
              "                                                    [key], {});\n",
              "        if (!dataTable) return;\n",
              "\n",
              "        const docLinkHtml = 'Like what you see? Visit the ' +\n",
              "          '<a target=\"_blank\" href=https://colab.research.google.com/notebooks/data_table.ipynb>data table notebook</a>'\n",
              "          + ' to learn more about interactive tables.';\n",
              "        element.innerHTML = '';\n",
              "        dataTable['output_type'] = 'display_data';\n",
              "        await google.colab.output.renderOutput(dataTable, element);\n",
              "        const docLink = document.createElement('div');\n",
              "        docLink.innerHTML = docLinkHtml;\n",
              "        element.appendChild(docLink);\n",
              "      }\n",
              "    </script>\n",
              "  </div>\n",
              "\n",
              "\n",
              "<div id=\"df-dafa41b0-8231-49d2-808c-245b6114685c\">\n",
              "  <button class=\"colab-df-quickchart\" onclick=\"quickchart('df-dafa41b0-8231-49d2-808c-245b6114685c')\"\n",
              "            title=\"Suggest charts\"\n",
              "            style=\"display:none;\">\n",
              "\n",
              "<svg xmlns=\"http://www.w3.org/2000/svg\" height=\"24px\"viewBox=\"0 0 24 24\"\n",
              "     width=\"24px\">\n",
              "    <g>\n",
              "        <path d=\"M19 3H5c-1.1 0-2 .9-2 2v14c0 1.1.9 2 2 2h14c1.1 0 2-.9 2-2V5c0-1.1-.9-2-2-2zM9 17H7v-7h2v7zm4 0h-2V7h2v10zm4 0h-2v-4h2v4z\"/>\n",
              "    </g>\n",
              "</svg>\n",
              "  </button>\n",
              "\n",
              "<style>\n",
              "  .colab-df-quickchart {\n",
              "      --bg-color: #E8F0FE;\n",
              "      --fill-color: #1967D2;\n",
              "      --hover-bg-color: #E2EBFA;\n",
              "      --hover-fill-color: #174EA6;\n",
              "      --disabled-fill-color: #AAA;\n",
              "      --disabled-bg-color: #DDD;\n",
              "  }\n",
              "\n",
              "  [theme=dark] .colab-df-quickchart {\n",
              "      --bg-color: #3B4455;\n",
              "      --fill-color: #D2E3FC;\n",
              "      --hover-bg-color: #434B5C;\n",
              "      --hover-fill-color: #FFFFFF;\n",
              "      --disabled-bg-color: #3B4455;\n",
              "      --disabled-fill-color: #666;\n",
              "  }\n",
              "\n",
              "  .colab-df-quickchart {\n",
              "    background-color: var(--bg-color);\n",
              "    border: none;\n",
              "    border-radius: 50%;\n",
              "    cursor: pointer;\n",
              "    display: none;\n",
              "    fill: var(--fill-color);\n",
              "    height: 32px;\n",
              "    padding: 0;\n",
              "    width: 32px;\n",
              "  }\n",
              "\n",
              "  .colab-df-quickchart:hover {\n",
              "    background-color: var(--hover-bg-color);\n",
              "    box-shadow: 0 1px 2px rgba(60, 64, 67, 0.3), 0 1px 3px 1px rgba(60, 64, 67, 0.15);\n",
              "    fill: var(--button-hover-fill-color);\n",
              "  }\n",
              "\n",
              "  .colab-df-quickchart-complete:disabled,\n",
              "  .colab-df-quickchart-complete:disabled:hover {\n",
              "    background-color: var(--disabled-bg-color);\n",
              "    fill: var(--disabled-fill-color);\n",
              "    box-shadow: none;\n",
              "  }\n",
              "\n",
              "  .colab-df-spinner {\n",
              "    border: 2px solid var(--fill-color);\n",
              "    border-color: transparent;\n",
              "    border-bottom-color: var(--fill-color);\n",
              "    animation:\n",
              "      spin 1s steps(1) infinite;\n",
              "  }\n",
              "\n",
              "  @keyframes spin {\n",
              "    0% {\n",
              "      border-color: transparent;\n",
              "      border-bottom-color: var(--fill-color);\n",
              "      border-left-color: var(--fill-color);\n",
              "    }\n",
              "    20% {\n",
              "      border-color: transparent;\n",
              "      border-left-color: var(--fill-color);\n",
              "      border-top-color: var(--fill-color);\n",
              "    }\n",
              "    30% {\n",
              "      border-color: transparent;\n",
              "      border-left-color: var(--fill-color);\n",
              "      border-top-color: var(--fill-color);\n",
              "      border-right-color: var(--fill-color);\n",
              "    }\n",
              "    40% {\n",
              "      border-color: transparent;\n",
              "      border-right-color: var(--fill-color);\n",
              "      border-top-color: var(--fill-color);\n",
              "    }\n",
              "    60% {\n",
              "      border-color: transparent;\n",
              "      border-right-color: var(--fill-color);\n",
              "    }\n",
              "    80% {\n",
              "      border-color: transparent;\n",
              "      border-right-color: var(--fill-color);\n",
              "      border-bottom-color: var(--fill-color);\n",
              "    }\n",
              "    90% {\n",
              "      border-color: transparent;\n",
              "      border-bottom-color: var(--fill-color);\n",
              "    }\n",
              "  }\n",
              "</style>\n",
              "\n",
              "  <script>\n",
              "    async function quickchart(key) {\n",
              "      const quickchartButtonEl =\n",
              "        document.querySelector('#' + key + ' button');\n",
              "      quickchartButtonEl.disabled = true;  // To prevent multiple clicks.\n",
              "      quickchartButtonEl.classList.add('colab-df-spinner');\n",
              "      try {\n",
              "        const charts = await google.colab.kernel.invokeFunction(\n",
              "            'suggestCharts', [key], {});\n",
              "      } catch (error) {\n",
              "        console.error('Error during call to suggestCharts:', error);\n",
              "      }\n",
              "      quickchartButtonEl.classList.remove('colab-df-spinner');\n",
              "      quickchartButtonEl.classList.add('colab-df-quickchart-complete');\n",
              "    }\n",
              "    (() => {\n",
              "      let quickchartButtonEl =\n",
              "        document.querySelector('#df-dafa41b0-8231-49d2-808c-245b6114685c button');\n",
              "      quickchartButtonEl.style.display =\n",
              "        google.colab.kernel.accessAllowed ? 'block' : 'none';\n",
              "    })();\n",
              "  </script>\n",
              "</div>\n",
              "\n",
              "    </div>\n",
              "  </div>\n"
            ],
            "application/vnd.google.colaboratory.intrinsic+json": {
              "type": "dataframe",
              "summary": "{\n  \"name\": \"topic_model\",\n  \"rows\": 3,\n  \"fields\": [\n    {\n      \"column\": \"Topic\",\n      \"properties\": {\n        \"dtype\": \"number\",\n        \"std\": 1,\n        \"min\": -1,\n        \"max\": 1,\n        \"num_unique_values\": 3,\n        \"samples\": [\n          -1,\n          0,\n          1\n        ],\n        \"semantic_type\": \"\",\n        \"description\": \"\"\n      }\n    },\n    {\n      \"column\": \"Count\",\n      \"properties\": {\n        \"dtype\": \"number\",\n        \"std\": 815,\n        \"min\": 55,\n        \"max\": 1560,\n        \"num_unique_values\": 3,\n        \"samples\": [\n          1352,\n          1560,\n          55\n        ],\n        \"semantic_type\": \"\",\n        \"description\": \"\"\n      }\n    },\n    {\n      \"column\": \"Name\",\n      \"properties\": {\n        \"dtype\": \"string\",\n        \"num_unique_values\": 3,\n        \"samples\": [\n          \"-1_campground_lake_hills_park\",\n          \"0_trail_highway_park_campground\",\n          \"1_trips_bicycling_biking_bicycle\"\n        ],\n        \"semantic_type\": \"\",\n        \"description\": \"\"\n      }\n    },\n    {\n      \"column\": \"Representation\",\n      \"properties\": {\n        \"dtype\": \"object\",\n        \"semantic_type\": \"\",\n        \"description\": \"\"\n      }\n    },\n    {\n      \"column\": \"Representative_Docs\",\n      \"properties\": {\n        \"dtype\": \"object\",\n        \"semantic_type\": \"\",\n        \"description\": \"\"\n      }\n    }\n  ]\n}"
            }
          },
          "metadata": {},
          "execution_count": 72
        }
      ]
    },
    {
      "cell_type": "code",
      "source": [
        "topic_model.visualize_topics()"
      ],
      "metadata": {
        "id": "T24dIMc0geKN",
        "outputId": "048f0d23-c0e5-4b10-e50a-31202545fcec",
        "colab": {
          "base_uri": "https://localhost:8080/",
          "height": 293
        }
      },
      "execution_count": 46,
      "outputs": [
        {
          "output_type": "error",
          "ename": "IndexError",
          "evalue": "arrays used as indices must be of integer (or boolean) type",
          "traceback": [
            "\u001b[0;31m---------------------------------------------------------------------------\u001b[0m",
            "\u001b[0;31mIndexError\u001b[0m                                Traceback (most recent call last)",
            "\u001b[0;32m<ipython-input-46-91cc4b963168>\u001b[0m in \u001b[0;36m<cell line: 1>\u001b[0;34m()\u001b[0m\n\u001b[0;32m----> 1\u001b[0;31m \u001b[0mtopic_model\u001b[0m\u001b[0;34m.\u001b[0m\u001b[0mvisualize_topics\u001b[0m\u001b[0;34m(\u001b[0m\u001b[0;34m)\u001b[0m\u001b[0;34m\u001b[0m\u001b[0;34m\u001b[0m\u001b[0m\n\u001b[0m",
            "\u001b[0;32m/usr/local/lib/python3.10/dist-packages/bertopic/_bertopic.py\u001b[0m in \u001b[0;36mvisualize_topics\u001b[0;34m(self, topics, top_n_topics, use_ctfidf, custom_labels, title, width, height)\u001b[0m\n\u001b[1;32m   2422\u001b[0m         \"\"\"\n\u001b[1;32m   2423\u001b[0m         \u001b[0mcheck_is_fitted\u001b[0m\u001b[0;34m(\u001b[0m\u001b[0mself\u001b[0m\u001b[0;34m)\u001b[0m\u001b[0;34m\u001b[0m\u001b[0;34m\u001b[0m\u001b[0m\n\u001b[0;32m-> 2424\u001b[0;31m         return plotting.visualize_topics(\n\u001b[0m\u001b[1;32m   2425\u001b[0m             \u001b[0mself\u001b[0m\u001b[0;34m,\u001b[0m\u001b[0;34m\u001b[0m\u001b[0;34m\u001b[0m\u001b[0m\n\u001b[1;32m   2426\u001b[0m             \u001b[0mtopics\u001b[0m\u001b[0;34m=\u001b[0m\u001b[0mtopics\u001b[0m\u001b[0;34m,\u001b[0m\u001b[0;34m\u001b[0m\u001b[0;34m\u001b[0m\u001b[0m\n",
            "\u001b[0;32m/usr/local/lib/python3.10/dist-packages/bertopic/plotting/_topics.py\u001b[0m in \u001b[0;36mvisualize_topics\u001b[0;34m(topic_model, topics, top_n_topics, use_ctfidf, custom_labels, title, width, height)\u001b[0m\n\u001b[1;32m     84\u001b[0m         \u001b[0moutput_ndarray\u001b[0m\u001b[0;34m=\u001b[0m\u001b[0;32mTrue\u001b[0m\u001b[0;34m,\u001b[0m\u001b[0;34m\u001b[0m\u001b[0;34m\u001b[0m\u001b[0m\n\u001b[1;32m     85\u001b[0m     )\n\u001b[0;32m---> 86\u001b[0;31m     \u001b[0membeddings\u001b[0m \u001b[0;34m=\u001b[0m \u001b[0membeddings\u001b[0m\u001b[0;34m[\u001b[0m\u001b[0mindices\u001b[0m\u001b[0;34m]\u001b[0m\u001b[0;34m\u001b[0m\u001b[0;34m\u001b[0m\u001b[0m\n\u001b[0m\u001b[1;32m     87\u001b[0m \u001b[0;34m\u001b[0m\u001b[0m\n\u001b[1;32m     88\u001b[0m     \u001b[0;32mif\u001b[0m \u001b[0mc_tfidf_used\u001b[0m\u001b[0;34m:\u001b[0m\u001b[0;34m\u001b[0m\u001b[0;34m\u001b[0m\u001b[0m\n",
            "\u001b[0;31mIndexError\u001b[0m: arrays used as indices must be of integer (or boolean) type"
          ]
        }
      ]
    },
    {
      "cell_type": "code",
      "source": [],
      "metadata": {
        "id": "1wplV2DZmQo0"
      },
      "execution_count": null,
      "outputs": []
    }
  ],
  "metadata": {
    "language_info": {
      "name": "python"
    },
    "colab": {
      "provenance": []
    },
    "kernelspec": {
      "name": "python3",
      "display_name": "Python 3"
    }
  },
  "nbformat": 4,
  "nbformat_minor": 0
}