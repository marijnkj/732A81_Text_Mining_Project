{
  "cells": [
    {
      "cell_type": "markdown",
      "metadata": {
        "id": "IfeeK6JJ5OXt"
      },
      "source": [
        "## Libraries"
      ]
    },
    {
      "cell_type": "markdown",
      "source": [
        "### Install packages and download models"
      ],
      "metadata": {
        "id": "JrkWGUKmky6q"
      }
    },
    {
      "cell_type": "code",
      "source": [
        "# Remove capture line to see output if something goes wrong\n",
        "%%capture\n",
        "!pip install bertopic\n",
        "!pip install kaleido\n",
        "!python -m spacy download en_core_web_md"
      ],
      "metadata": {
        "id": "oMaZ_FGviA_M"
      },
      "execution_count": 58,
      "outputs": []
    },
    {
      "cell_type": "markdown",
      "source": [
        "### Imports"
      ],
      "metadata": {
        "id": "WNwJ4sgJk232"
      }
    },
    {
      "cell_type": "code",
      "execution_count": 55,
      "metadata": {
        "vscode": {
          "languageId": "plaintext"
        },
        "id": "BFsqgr8W5OXw"
      },
      "outputs": [],
      "source": [
        "import numpy as np\n",
        "import pandas as pd\n",
        "import matplotlib.pyplot as plt\n",
        "from tqdm import tqdm\n",
        "import re\n",
        "import pickle\n",
        "\n",
        "# Preprocessing and Gensim\n",
        "import spacy\n",
        "from spacy.lang.en import stop_words\n",
        "from transformers import pipeline, AutoTokenizer, AutoModelForTokenClassification\n",
        "from gensim import corpora, models\n",
        "import logging\n",
        "\n",
        "# BERTopic\n",
        "from sentence_transformers import SentenceTransformer\n",
        "from sklearn.feature_extraction.text import CountVectorizer\n",
        "from bertopic.vectorizers import ClassTfidfTransformer\n",
        "from bertopic.representation import KeyBERTInspired\n",
        "from hdbscan import HDBSCAN\n",
        "from bertopic import BERTopic\n",
        "\n",
        "# spaCy NLP\n",
        "nlp = spacy.load(\"en_core_web_md\")"
      ]
    },
    {
      "cell_type": "markdown",
      "metadata": {
        "id": "3fzVmVrx5OXx"
      },
      "source": [
        "## Preprocess text"
      ]
    },
    {
      "cell_type": "markdown",
      "source": [
        "### Filter out non-English documents"
      ],
      "metadata": {
        "id": "ZcoIJ2rExoNZ"
      }
    },
    {
      "cell_type": "code",
      "source": [
        "# https://huggingface.co/papluca/xlm-roberta-base-language-detection\n",
        "model_ckpt = \"papluca/xlm-roberta-base-language-detection\"\n",
        "pipe = pipeline(\"text-classification\", model=model_ckpt)\n",
        "\n",
        "df_blogs = pd.read_csv(\"blogs.csv\").dropna(subset=\"blog\")\n",
        "for i, row in tqdm(df_blogs.iterrows()):\n",
        "    blog = row[\"blog\"]\n",
        "\n",
        "    blog = blog.strip()\n",
        "    lang = pipe(blog, truncation=True)\n",
        "\n",
        "    df_blogs.loc[i, \"blog\"] = blog\n",
        "    df_blogs.loc[i, \"lang\"] = lang[0][\"label\"]\n",
        "\n",
        "df_blogs = df_blogs[df_blogs[\"lang\"] == \"en\"]\n",
        "df_blogs.to_csv(\"blogs.csv\")"
      ],
      "metadata": {
        "colab": {
          "base_uri": "https://localhost:8080/"
        },
        "id": "axOe9Lm1wYOc",
        "outputId": "3982f721-0e45-40b6-bc70-017c79e6f123"
      },
      "execution_count": null,
      "outputs": [
        {
          "output_type": "stream",
          "name": "stderr",
          "text": [
            "Device set to use cpu\n",
            "3138it [58:25,  1.12s/it]\n"
          ]
        }
      ]
    },
    {
      "cell_type": "markdown",
      "source": [
        "### Named entity recognition"
      ],
      "metadata": {
        "id": "6m2Z2LHU3S-0"
      }
    },
    {
      "cell_type": "code",
      "source": [
        "df_blogs = pd.read_csv(\"blogs.csv\", index_col=0)\n",
        "\n",
        "# Named entity recognition model\n",
        "tokenizer = AutoTokenizer.from_pretrained(\"dslim/bert-base-NER\")\n",
        "model = AutoModelForTokenClassification.from_pretrained(\"dslim/bert-base-NER\")\n",
        "ner = pipeline(\"ner\", model=model, tokenizer=tokenizer)\n",
        "\n",
        "for index, row in tqdm(df_blogs.iterrows()):\n",
        "  ner_res = ner(row[\"blog\"]) # Run NER model on blog\n",
        "  ner_res = [res for res in ner_res if \"ORG\" not in res[\"entity\"] and \"MISC\" not in res[\"entity\"]] # Don't care about the org or misc tag\n",
        "\n",
        "  # Apply some post-processing to concatenate tokens\n",
        "  ner_res_post_proc = []\n",
        "  for i, res in enumerate(ner_res):\n",
        "    if res[\"word\"].startswith(\"##\"):\n",
        "      # Don't append if it's part of a word\n",
        "      continue\n",
        "    elif i != len(ner_res) - 1:\n",
        "      # If it's not the last element in the list\n",
        "      j = 1\n",
        "      full_res = res\n",
        "      full_res[\"entity\"] = res[\"entity\"].replace(\"B-LOC\", \"LOC\").replace(\"I-LOC\", \"LOC\").replace(\"B-PER\", \"PER\").replace(\"I-PER\", \"PER\")\n",
        "      while ner_res[i + j][\"word\"].startswith(\"##\"):\n",
        "        next_res = ner_res[i + j]\n",
        "        full_res[\"word\"] += next_res[\"word\"].replace(\"##\", \"\")\n",
        "        full_res[\"end\"] = next_res[\"end\"]\n",
        "\n",
        "\n",
        "        # If end is reached, stop. Else continue\n",
        "        if i + j == len(ner_res) - 1:\n",
        "          break\n",
        "        else:\n",
        "          j += 1\n",
        "\n",
        "      ner_res_post_proc.append(full_res)\n",
        "\n",
        "  # Replace tokens by their entity\n",
        "  ner_blog = row[\"blog\"]\n",
        "  len_change = 0\n",
        "  for res in ner_res_post_proc:\n",
        "    ner_blog = ner_blog[:res[\"start\"] - len_change] + res[\"entity\"] + ner_blog[res[\"end\"] - len_change:]\n",
        "    len_change += len(res[\"word\"]) - 3\n",
        "\n",
        "\n",
        "  # Clean up some weird issues\n",
        "  def clean_up_ner_blogs(blog):\n",
        "    blog = re.sub(r'\\b\\w*LOC\\w*\\b', 'LOC', blog)\n",
        "    blog = re.sub(r'\\b\\w*PER\\w*\\b', 'PER', blog)\n",
        "\n",
        "    return blog\n",
        "\n",
        "\n",
        "  df_blogs[\"ner_blog\"] = df_blogs[\"ner_blog\"].apply(clean_up_ner_blogs)\n",
        "  df_blogs.loc[index, \"ner_blog\"] = ner_blog"
      ],
      "metadata": {
        "id": "04zuAsBjgpQz",
        "outputId": "3b752c64-2af4-419f-fd04-79998e80fb22",
        "colab": {
          "base_uri": "https://localhost:8080/"
        }
      },
      "execution_count": 9,
      "outputs": [
        {
          "output_type": "stream",
          "name": "stderr",
          "text": [
            "Some weights of the model checkpoint at dslim/bert-base-NER were not used when initializing BertForTokenClassification: ['bert.pooler.dense.bias', 'bert.pooler.dense.weight']\n",
            "- This IS expected if you are initializing BertForTokenClassification from the checkpoint of a model trained on another task or with another architecture (e.g. initializing a BertForSequenceClassification model from a BertForPreTraining model).\n",
            "- This IS NOT expected if you are initializing BertForTokenClassification from the checkpoint of a model that you expect to be exactly identical (initializing a BertForSequenceClassification model from a BertForSequenceClassification model).\n",
            "Device set to use cpu\n",
            "2967it [1:05:43,  1.33s/it]\n"
          ]
        }
      ]
    },
    {
      "cell_type": "code",
      "source": [
        "df_blogs.to_csv(\"blogs.csv\")"
      ],
      "metadata": {
        "id": "riMKjo5IqTsW"
      },
      "execution_count": 27,
      "outputs": []
    },
    {
      "cell_type": "markdown",
      "source": [
        "### Stop words"
      ],
      "metadata": {
        "id": "dJe7RlnYWz4S"
      }
    },
    {
      "cell_type": "code",
      "source": [
        "# Define stop words\n",
        "stop_words_to_use = list(stop_words.STOP_WORDS)\n",
        "stop_words_to_use += [\"ride\", \"rides\", \"riding\", \"cycling\", \"cycle\", \"bicycle\", \"bicycling\", \"tour\", \"touring\", \"day\", \"bike\", \"bikes\", \"biking\", \"road\", \"get\", \"go\", \"mile\", \"miles\", \"km\", \"kms\", \"metre\", \"like\", \"way\", \"good\", \"come\", \"look\", \"nice\", \"think\", \"trip\", \"know\", \"see\", \"great\", \"today\", \"distance\", \"rained\", \"raining\", \"weather\", \"rain\", \"winds\", \"wind\", \"storm\", \"tornado\", \"tailwind\", \"evening\", \"warm\", \"sun\"]"
      ],
      "metadata": {
        "id": "uVIxznLdkRqf"
      },
      "execution_count": 51,
      "outputs": []
    },
    {
      "cell_type": "markdown",
      "source": [
        "### Apply standard preprocessing"
      ],
      "metadata": {
        "id": "v0w8f8f_xtQd"
      }
    },
    {
      "cell_type": "code",
      "execution_count": 29,
      "metadata": {
        "vscode": {
          "languageId": "plaintext"
        },
        "id": "d4ismve05OXy",
        "colab": {
          "base_uri": "https://localhost:8080/"
        },
        "outputId": "7e873065-e904-4dba-aff5-eefbfa8e4463"
      },
      "outputs": [
        {
          "output_type": "stream",
          "name": "stderr",
          "text": [
            "2967it [04:24, 11.21it/s]\n",
            "2967it [04:20, 11.40it/s]\n"
          ]
        }
      ],
      "source": [
        "# https://spacy.io/usage/linguistic-features\n",
        "def preprocess_text(file_path, nlp, ner_blogs=False, stop_word_removal=True, non_alpha_removal=True, lemmatization=True, lowercasing=True, stop_words_to_use=[]):\n",
        "    df_blogs = pd.read_csv(file_path)\n",
        "    documents = []\n",
        "\n",
        "    for i, row in tqdm(df_blogs.iterrows()):\n",
        "        if ner_blogs:\n",
        "          doc = nlp(row[\"ner_blog\"]) # Convert to spaCy doc\n",
        "        else:\n",
        "          doc = nlp(row[\"blog\"]) # Convert to spaCy doc\n",
        "\n",
        "        if len(doc) > 1:\n",
        "            if non_alpha_removal: # Remove non alpha characters\n",
        "                doc = [token for token in doc if token.is_alpha]\n",
        "\n",
        "            if lemmatization: # Lemmatize words\n",
        "                doc = [token.lemma_ for token in doc]\n",
        "\n",
        "            if stop_word_removal: # Remove stop words\n",
        "                doc = [token for token in doc if token not in stop_words_to_use]\n",
        "\n",
        "            if lowercasing: # Lowercase words\n",
        "                doc = [token.lower() for token in doc]\n",
        "\n",
        "            documents.append(doc)\n",
        "\n",
        "    # https://radimrehurek.com/gensim/auto_examples/core/run_corpora_and_vector_spaces.html\n",
        "    dictionary = corpora.Dictionary(documents)\n",
        "    dictionary.filter_extremes(no_below=2) # Filter out tokens appearing only once\n",
        "    corpus = [dictionary.doc2bow(doc) for doc in documents]\n",
        "\n",
        "    if ner_blogs:\n",
        "      dictionary.save(\"ner_dictionary.dict\")\n",
        "      corpora.MmCorpus.serialize(\"ner_corpus.mm\", corpus)\n",
        "    else:\n",
        "      dictionary.save(\"dictionary.dict\")\n",
        "      corpora.MmCorpus.serialize(\"corpus.mm\", corpus)\n",
        "\n",
        "\n",
        "# Generate dictionary and corpus for both cases\n",
        "preprocess_text(\"blogs.csv\", nlp, ner_blogs=True, stop_words_to_use=stop_words_to_use)\n",
        "preprocess_text(\"blogs.csv\", nlp, ner_blogs=False, stop_words_to_use=stop_words_to_use)"
      ]
    },
    {
      "cell_type": "markdown",
      "source": [
        "## Modelling"
      ],
      "metadata": {
        "id": "2g0kxnG38TLX"
      }
    },
    {
      "cell_type": "code",
      "source": [
        "# Allow logging\n",
        "logging.basicConfig(filename='gensim.log', format='%(asctime)s:%(levelname)s:%(message)s', level=logging.INFO)\n",
        "\n",
        "\n",
        "def clear_logfile():\n",
        "    # To empty the log file\n",
        "    with open(\"gensim.log\", \"w\"):\n",
        "        pass\n",
        "\n",
        "\n",
        "def parse_logfile():\n",
        "    \"\"\"Parse gensim.log to extract the log-likelihood scores.\n",
        "\n",
        "    Returns:\n",
        "        A list of log-likelihood scores.\n",
        "    \"\"\"\n",
        "    matcher = re.compile(r'(-*\\d+\\.\\d+) per-word .* (\\d+\\.\\d+) perplexity')\n",
        "    likelihoods = []\n",
        "    with open('gensim.log') as source:\n",
        "        for line in source:\n",
        "            match = matcher.search(line)\n",
        "            if match:\n",
        "                likelihoods.append(float(match.group(1)))\n",
        "    return likelihoods"
      ],
      "metadata": {
        "id": "68ZfkEG4xRka"
      },
      "execution_count": 31,
      "outputs": []
    },
    {
      "cell_type": "markdown",
      "source": [
        "### LDA"
      ],
      "metadata": {
        "id": "2HkMNr4e_ped"
      }
    },
    {
      "cell_type": "code",
      "source": [
        "def train_lda_model(ner_corpus=False, tfidf=True):\n",
        "  if ner_corpus:\n",
        "    # https://radimrehurek.com/gensim/auto_examples/core/run_topics_and_transformations.html\n",
        "    dictionary = corpora.Dictionary.load(\"ner_dictionary.dict\")\n",
        "    corpus = corpora.MmCorpus(\"ner_corpus.mm\")\n",
        "  else:\n",
        "    dictionary = corpora.Dictionary.load(\"dictionary.dict\")\n",
        "    corpus = corpora.MmCorpus(\"corpus.mm\")\n",
        "\n",
        "  if tfidf:\n",
        "    tfidf = models.TfidfModel(corpus)\n",
        "    corpus = tfidf[corpus]\n",
        "\n",
        "  # https://radimrehurek.com/gensim/models/ldamodel.html\n",
        "  # https://stackoverflow.com/questions/37570696/how-to-monitor-convergence-of-gensim-lda-model\n",
        "  clear_logfile()\n",
        "  lda = models.LdaModel(corpus, num_topics=10, id2word=dictionary, passes=50, eval_every=10)\n",
        "  likelihoods = parse_logfile()\n",
        "\n",
        "  # Plot likelihoods for convergence\n",
        "  fig, ax = plt.subplots(figsize=(12, 7))\n",
        "  ax.plot(likelihoods)\n",
        "  ax.set(title=\"LDA Convergence\", xlabel=\"Iteration\", ylabel=\"Log-Likelihood\")\n",
        "\n",
        "  # Print most important words per topic\n",
        "  topics = lda.get_topics()\n",
        "  for topic in range(10):\n",
        "      topic_probs = topics[topic, :]\n",
        "      print(f\"Topic {topic}: {', '.join([dictionary[i] for i in np.argsort(topic_probs)[-10:]])}\")\n",
        "\n",
        "  return lda\n",
        "\n",
        "for ner_corpus in [True, False]:\n",
        "  for tfidf in [True, False]:\n",
        "    print(f\"NER: \", ner_corpus, \"\\nTF-IDF (BOW if False): \", tfidf)\n",
        "    lda = train_lda_model(ner_corpus=ner_corpus, tfidf=tfidf)\n",
        "    print(\"\\n\\n\")"
      ],
      "metadata": {
        "id": "Ajty4TDm7fwA",
        "outputId": "350aacd7-eaa2-4367-9c94-afbabedd96c0",
        "colab": {
          "base_uri": "https://localhost:8080/",
          "height": 1000
        }
      },
      "execution_count": 34,
      "outputs": [
        {
          "output_type": "stream",
          "name": "stdout",
          "text": [
            "NER:  True \n",
            "TF-IDF (else BOW):  True\n",
            "Topic 0: iffy, sparta, tendon, amish, eureka, dynamic, climber, cache, fortress, hangover\n",
            "Topic 1: jinx, reporter, vote, tidy, sorry, intermittent, terribly, distance, osprey, total\n",
            "Topic 2: saw, aunt, aim, hurry, outskirt, rig, recumbent, culture, present, maori\n",
            "Topic 3: lanark, trails, prince, mascot, anonymous, ute, peggy, hide, baffle, link\n",
            "Topic 4: head, find, start, climb, wind, rain, time, stop, hill, town\n",
            "Topic 5: pontoon, sundowner, neon, lisa, incorporate, pipeline, hind, blah, molly, â\n",
            "Topic 6: outlet, brunch, luxurious, utah, resturant, pebble, mesquite, corps, café, kauri\n",
            "Topic 7: icelandic, sw, bugger, rant, lull, elevation, gain, gin, excerpt, height\n",
            "Topic 8: salt, entertaining, engine, trash, coastline, paceline, leukemia, lad, municipal, ernie\n",
            "Topic 9: ortlieb, grazing, carousel, pricey, dingo, tandems, era, page, part, kg\n",
            "\n",
            "\n",
            "\n",
            "NER:  True \n",
            "TF-IDF (else BOW):  False\n",
            "Topic 0: turn, long, right, find, town, pass, start, hill, stop, time\n",
            "Topic 1: trail, truck, lunch, flat, stop, head, find, town, rain, start\n",
            "Topic 2: lindsey, bless, ben, palo, verde, russian, interpretive, god, sand, dune\n",
            "Topic 3: organic, link, pendleton, cake, mall, movie, read, book, â, film\n",
            "Topic 4: old, new, plan, friend, week, people, meet, time, home, year\n",
            "Topic 5: mountain, dinner, hill, night, pretty, eat, little, climb, time, stop\n",
            "Topic 6: main, train, old, walk, place, bar, campsite, small, find, town\n",
            "Topic 7: coffee, area, away, lot, stop, place, campsite, weather, rain, time\n",
            "Topic 8: shirt, pair, tool, stuff, sleep, use, pannier, rear, gear, bag\n",
            "Topic 9: box, luggage, check, day, wait, plane, flight, train, airport, bus\n",
            "\n",
            "\n",
            "\n",
            "NER:  False \n",
            "TF-IDF (else BOW):  True\n",
            "Topic 0: tallahassee, havre, fargo, invermere, queenstown, wanaka, milford, saskatchewan, yakima, helena\n",
            "Topic 1: don, loop, er, arrival, charles, euro, harbour, rotorua, slope, molly\n",
            "Topic 2: winthrop, lochsa, lander, update, butte, miriam, rosedale, vale, lolo, perth\n",
            "Topic 3: start, river, find, climb, wind, pass, stop, rain, hill, town\n",
            "Topic 4: ashland, rogers, blah, takeaway, anglesea, sunflower, w, heidi, andy, ottawa\n",
            "Topic 5: barstow, scrabble, sonya, crete, freaky, cracking, tram, stuart, emu, xmas\n",
            "Topic 6: culbertson, sean, jazz, draper, springbrook, manistee, hutt, damascus, hobart, beau\n",
            "Topic 7: berea, distance, brenda, eugene, carla, yorktown, florence, wobble, tony, total\n",
            "Topic 8: cal, plymouth, dover, jake, sprocket, ha, mesquite, fossil, height, nick\n",
            "Topic 9: rant, nugget, savannah, newcastle, super, part, sumpter, link, whistler, motel\n",
            "\n",
            "\n",
            "\n",
            "NER:  False \n",
            "TF-IDF (else BOW):  False\n",
            "Topic 0: leave, city, start, trail, pass, park, head, town, stop, river\n",
            "Topic 1: water, long, start, find, climb, hill, pass, town, little, stop\n",
            "Topic 2: wanaka, week, sound, whale, shirt, rain, wind, link, pair, ferry\n",
            "Topic 3: spend, arrive, night, tourist, walk, evening, find, hostel, place, town\n",
            "Topic 4: place, joyce, find, phil, hill, stop, weather, start, wind, rain\n",
            "Topic 5: eat, jean, shower, campsite, small, water, sleep, food, tent, bag\n",
            "Topic 6: turn, day, north, rd, lake, song, east, rode, south, rt\n",
            "Topic 7: lindsey, der, sammy, rant, marae, cheviot, drug, sydney, perth, dave\n",
            "Topic 8: people, friend, tire, want, week, work, year, thing, new, home\n",
            "Topic 9: bridge, end, long, town, climb, trail, stop, turn, route, hill\n",
            "\n",
            "\n",
            "\n"
          ]
        },
        {
          "output_type": "display_data",
          "data": {
            "text/plain": [
              "<Figure size 1200x700 with 1 Axes>"
            ],
            "image/png": "[encoded data removed]"
          },
          "metadata": {}
        },
        {
          "output_type": "display_data",
          "data": {
            "text/plain": [
              "<Figure size 1200x700 with 1 Axes>"
            ],
            "image/png": "[encoded data removed]"
          },
          "metadata": {}
        },
        {
          "output_type": "display_data",
          "data": {
            "text/plain": [
              "<Figure size 1200x700 with 1 Axes>"
            ],
            "image/png": "[encoded data removed]"
          },
          "metadata": {}
        },
        {
          "output_type": "display_data",
          "data": {
            "text/plain": [
              "<Figure size 1200x700 with 1 Axes>"
            ],
            "image/png": "[encoded data removed]"
          },
          "metadata": {}
        }
      ]
    },
    {
      "cell_type": "markdown",
      "source": [
        "### BERTopic"
      ],
      "metadata": {
        "id": "ykiuboJuNW-V"
      }
    },
    {
      "cell_type": "code",
      "source": [
        "# https://maartengr.github.io/BERTopic/getting_started/tips_and_tricks/tips_and_tricks.html\n",
        "# https://maartengr.github.io/BERTopic/getting_started/best_practices/best_practices.html\n",
        "\n",
        "df_blogs = df_blogs.reset_index(drop=True)\n",
        "\n",
        "embedding_model = SentenceTransformer(\"all-MiniLM-L6-v2\")\n",
        "embeddings = embedding_model.encode(df_blogs.blog)\n",
        "ner_embeddings = embedding_model.encode(df_blogs.ner_blog)\n",
        "\n",
        "# Store embeddings to file\n",
        "with open(\"embeddings.pkl\", \"wb\") as f:\n",
        "  pickle.dump(embeddings, f)\n",
        "\n",
        "with open(\"ner_embeddings.pkl\", \"wb\") as f:\n",
        "  pickle.dump(ner_embeddings, f)"
      ],
      "metadata": {
        "id": "L3tzqwGotZp9"
      },
      "execution_count": 37,
      "outputs": []
    },
    {
      "cell_type": "code",
      "source": [
        "# To load saved embeddings if necessary\n",
        "# with open(\"embeddings.pkl\", \"rb\") as f:\n",
        "#   embeddings = pickle.load(f)\n",
        "\n",
        "# with open(\"ner_embeddings.pkl\", \"rb\") as f:\n",
        "#   ner_embeddings = pickle.load(f)\n",
        "\n",
        "hdbscan_model = HDBSCAN(min_cluster_size=50) # Clustering step\n",
        "vectorizer_model = CountVectorizer(stop_words=stop_words_to_use) # Tokenizer step\n",
        "ctfidf_model = ClassTfidfTransformer(reduce_frequent_words=True) # c-TF-IDF step\n",
        "representation_model = KeyBERTInspired() # Fine-tuning step\n",
        "\n",
        "for ner_corpus in [True, False]:\n",
        "  print(\"NER: \", ner_corpus)\n",
        "  topic_model = BERTopic(embedding_model=embedding_model, hdbscan_model=hdbscan_model, vectorizer_model=vectorizer_model, ctfidf_model=ctfidf_model, representation_model=representation_model)\n",
        "\n",
        "  if ner_corpus:\n",
        "    topics, probs = topic_model.fit_transform(df_blogs.blog, ner_embeddings)\n",
        "    visualization = topic_model.visualize_documents(df_blogs.blog, embeddings=ner_embeddings)\n",
        "    visualization.write_image(\"ner_visualization.png\")\n",
        "  else:\n",
        "    topics, probs = topic_model.fit_transform(df_blogs.blog, embeddings)\n",
        "    visualization = topic_model.visualize_documents(df_blogs.blog, embeddings=embeddings)\n",
        "    visualization.write_image(\"visualization.png\")\n",
        "\n",
        "  print(topic_model.get_topic_info())"
      ],
      "metadata": {
        "id": "gMO_5qdApGoc",
        "colab": {
          "base_uri": "https://localhost:8080/",
          "height": 436
        },
        "outputId": "00347f7c-4c78-4e01-fc7b-85459685a25c"
      },
      "execution_count": 54,
      "outputs": [
        {
          "output_type": "stream",
          "name": "stdout",
          "text": [
            "NER:  True\n"
          ]
        },
        {
          "output_type": "error",
          "ename": "ValueError",
          "evalue": "\nImage export using the \"kaleido\" engine requires the kaleido package,\nwhich can be installed using pip:\n    $ pip install -U kaleido\n",
          "traceback": [
            "\u001b[0;31m---------------------------------------------------------------------------\u001b[0m",
            "\u001b[0;31mValueError\u001b[0m                                Traceback (most recent call last)",
            "\u001b[0;32m<ipython-input-54-9e2847fde4ff>\u001b[0m in \u001b[0;36m<cell line: 0>\u001b[0;34m()\u001b[0m\n\u001b[1;32m     18\u001b[0m     \u001b[0mtopics\u001b[0m\u001b[0;34m,\u001b[0m \u001b[0mprobs\u001b[0m \u001b[0;34m=\u001b[0m \u001b[0mtopic_model\u001b[0m\u001b[0;34m.\u001b[0m\u001b[0mfit_transform\u001b[0m\u001b[0;34m(\u001b[0m\u001b[0mdf_blogs\u001b[0m\u001b[0;34m.\u001b[0m\u001b[0mblog\u001b[0m\u001b[0;34m,\u001b[0m \u001b[0mner_embeddings\u001b[0m\u001b[0;34m)\u001b[0m\u001b[0;34m\u001b[0m\u001b[0;34m\u001b[0m\u001b[0m\n\u001b[1;32m     19\u001b[0m     \u001b[0mvisualization\u001b[0m \u001b[0;34m=\u001b[0m \u001b[0mtopic_model\u001b[0m\u001b[0;34m.\u001b[0m\u001b[0mvisualize_documents\u001b[0m\u001b[0;34m(\u001b[0m\u001b[0mdf_blogs\u001b[0m\u001b[0;34m.\u001b[0m\u001b[0mblog\u001b[0m\u001b[0;34m,\u001b[0m \u001b[0membeddings\u001b[0m\u001b[0;34m=\u001b[0m\u001b[0mner_embeddings\u001b[0m\u001b[0;34m)\u001b[0m\u001b[0;34m\u001b[0m\u001b[0;34m\u001b[0m\u001b[0m\n\u001b[0;32m---> 20\u001b[0;31m     \u001b[0mvisualization\u001b[0m\u001b[0;34m.\u001b[0m\u001b[0mwrite_image\u001b[0m\u001b[0;34m(\u001b[0m\u001b[0;34m\"ner_visualization.png\"\u001b[0m\u001b[0;34m)\u001b[0m\u001b[0;34m\u001b[0m\u001b[0;34m\u001b[0m\u001b[0m\n\u001b[0m\u001b[1;32m     21\u001b[0m   \u001b[0;32melse\u001b[0m\u001b[0;34m:\u001b[0m\u001b[0;34m\u001b[0m\u001b[0;34m\u001b[0m\u001b[0m\n\u001b[1;32m     22\u001b[0m     \u001b[0mtopics\u001b[0m\u001b[0;34m,\u001b[0m \u001b[0mprobs\u001b[0m \u001b[0;34m=\u001b[0m \u001b[0mtopic_model\u001b[0m\u001b[0;34m.\u001b[0m\u001b[0mfit_transform\u001b[0m\u001b[0;34m(\u001b[0m\u001b[0mdf_blogs\u001b[0m\u001b[0;34m.\u001b[0m\u001b[0mblog\u001b[0m\u001b[0;34m,\u001b[0m \u001b[0membeddings\u001b[0m\u001b[0;34m)\u001b[0m\u001b[0;34m\u001b[0m\u001b[0;34m\u001b[0m\u001b[0m\n",
            "\u001b[0;32m/usr/local/lib/python3.11/dist-packages/plotly/basedatatypes.py\u001b[0m in \u001b[0;36mwrite_image\u001b[0;34m(self, *args, **kwargs)\u001b[0m\n\u001b[1;32m   3833\u001b[0m         \u001b[0;32mimport\u001b[0m \u001b[0mplotly\u001b[0m\u001b[0;34m.\u001b[0m\u001b[0mio\u001b[0m \u001b[0;32mas\u001b[0m \u001b[0mpio\u001b[0m\u001b[0;34m\u001b[0m\u001b[0;34m\u001b[0m\u001b[0m\n\u001b[1;32m   3834\u001b[0m \u001b[0;34m\u001b[0m\u001b[0m\n\u001b[0;32m-> 3835\u001b[0;31m         \u001b[0;32mreturn\u001b[0m \u001b[0mpio\u001b[0m\u001b[0;34m.\u001b[0m\u001b[0mwrite_image\u001b[0m\u001b[0;34m(\u001b[0m\u001b[0mself\u001b[0m\u001b[0;34m,\u001b[0m \u001b[0;34m*\u001b[0m\u001b[0margs\u001b[0m\u001b[0;34m,\u001b[0m \u001b[0;34m**\u001b[0m\u001b[0mkwargs\u001b[0m\u001b[0;34m)\u001b[0m\u001b[0;34m\u001b[0m\u001b[0;34m\u001b[0m\u001b[0m\n\u001b[0m\u001b[1;32m   3836\u001b[0m \u001b[0;34m\u001b[0m\u001b[0m\n\u001b[1;32m   3837\u001b[0m     \u001b[0;31m# Static helpers\u001b[0m\u001b[0;34m\u001b[0m\u001b[0;34m\u001b[0m\u001b[0m\n",
            "\u001b[0;32m/usr/local/lib/python3.11/dist-packages/plotly/io/_kaleido.py\u001b[0m in \u001b[0;36mwrite_image\u001b[0;34m(fig, file, format, scale, width, height, validate, engine)\u001b[0m\n\u001b[1;32m    264\u001b[0m     \u001b[0;31m# -------------\u001b[0m\u001b[0;34m\u001b[0m\u001b[0;34m\u001b[0m\u001b[0m\n\u001b[1;32m    265\u001b[0m     \u001b[0;31m# Do this first so we don't create a file if image conversion fails\u001b[0m\u001b[0;34m\u001b[0m\u001b[0;34m\u001b[0m\u001b[0m\n\u001b[0;32m--> 266\u001b[0;31m     img_data = to_image(\n\u001b[0m\u001b[1;32m    267\u001b[0m         \u001b[0mfig\u001b[0m\u001b[0;34m,\u001b[0m\u001b[0;34m\u001b[0m\u001b[0;34m\u001b[0m\u001b[0m\n\u001b[1;32m    268\u001b[0m         \u001b[0mformat\u001b[0m\u001b[0;34m=\u001b[0m\u001b[0mformat\u001b[0m\u001b[0;34m,\u001b[0m\u001b[0;34m\u001b[0m\u001b[0;34m\u001b[0m\u001b[0m\n",
            "\u001b[0;32m/usr/local/lib/python3.11/dist-packages/plotly/io/_kaleido.py\u001b[0m in \u001b[0;36mto_image\u001b[0;34m(fig, format, width, height, scale, validate, engine)\u001b[0m\n\u001b[1;32m    130\u001b[0m     \u001b[0;31m# Raise informative error message if Kaleido is not installed\u001b[0m\u001b[0;34m\u001b[0m\u001b[0;34m\u001b[0m\u001b[0m\n\u001b[1;32m    131\u001b[0m     \u001b[0;32mif\u001b[0m \u001b[0mscope\u001b[0m \u001b[0;32mis\u001b[0m \u001b[0;32mNone\u001b[0m\u001b[0;34m:\u001b[0m\u001b[0;34m\u001b[0m\u001b[0;34m\u001b[0m\u001b[0m\n\u001b[0;32m--> 132\u001b[0;31m         raise ValueError(\n\u001b[0m\u001b[1;32m    133\u001b[0m             \"\"\"\n\u001b[1;32m    134\u001b[0m \u001b[0mImage\u001b[0m \u001b[0mexport\u001b[0m \u001b[0musing\u001b[0m \u001b[0mthe\u001b[0m \u001b[0;34m\"kaleido\"\u001b[0m \u001b[0mengine\u001b[0m \u001b[0mrequires\u001b[0m \u001b[0mthe\u001b[0m \u001b[0mkaleido\u001b[0m \u001b[0mpackage\u001b[0m\u001b[0;34m,\u001b[0m\u001b[0;34m\u001b[0m\u001b[0;34m\u001b[0m\u001b[0m\n",
            "\u001b[0;31mValueError\u001b[0m: \nImage export using the \"kaleido\" engine requires the kaleido package,\nwhich can be installed using pip:\n    $ pip install -U kaleido\n"
          ]
        }
      ]
    },
    {
      "cell_type": "code",
      "source": [
        "visualization.write_image(\"ner_visualization.png\")"
      ],
      "metadata": {
        "colab": {
          "base_uri": "https://localhost:8080/",
          "height": 347
        },
        "id": "XcJgJpRsY4PZ",
        "outputId": "7c57ec2a-1864-432c-96ee-d9fa902de1aa"
      },
      "execution_count": 56,
      "outputs": [
        {
          "output_type": "error",
          "ename": "ValueError",
          "evalue": "\nImage export using the \"kaleido\" engine requires the kaleido package,\nwhich can be installed using pip:\n    $ pip install -U kaleido\n",
          "traceback": [
            "\u001b[0;31m---------------------------------------------------------------------------\u001b[0m",
            "\u001b[0;31mValueError\u001b[0m                                Traceback (most recent call last)",
            "\u001b[0;32m<ipython-input-56-0f8514ec4ca8>\u001b[0m in \u001b[0;36m<cell line: 0>\u001b[0;34m()\u001b[0m\n\u001b[0;32m----> 1\u001b[0;31m \u001b[0mvisualization\u001b[0m\u001b[0;34m.\u001b[0m\u001b[0mwrite_image\u001b[0m\u001b[0;34m(\u001b[0m\u001b[0;34m\"ner_visualization.png\"\u001b[0m\u001b[0;34m)\u001b[0m\u001b[0;34m\u001b[0m\u001b[0;34m\u001b[0m\u001b[0m\n\u001b[0m",
            "\u001b[0;32m/usr/local/lib/python3.11/dist-packages/plotly/basedatatypes.py\u001b[0m in \u001b[0;36mwrite_image\u001b[0;34m(self, *args, **kwargs)\u001b[0m\n\u001b[1;32m   3833\u001b[0m         \u001b[0;32mimport\u001b[0m \u001b[0mplotly\u001b[0m\u001b[0;34m.\u001b[0m\u001b[0mio\u001b[0m \u001b[0;32mas\u001b[0m \u001b[0mpio\u001b[0m\u001b[0;34m\u001b[0m\u001b[0;34m\u001b[0m\u001b[0m\n\u001b[1;32m   3834\u001b[0m \u001b[0;34m\u001b[0m\u001b[0m\n\u001b[0;32m-> 3835\u001b[0;31m         \u001b[0;32mreturn\u001b[0m \u001b[0mpio\u001b[0m\u001b[0;34m.\u001b[0m\u001b[0mwrite_image\u001b[0m\u001b[0;34m(\u001b[0m\u001b[0mself\u001b[0m\u001b[0;34m,\u001b[0m \u001b[0;34m*\u001b[0m\u001b[0margs\u001b[0m\u001b[0;34m,\u001b[0m \u001b[0;34m**\u001b[0m\u001b[0mkwargs\u001b[0m\u001b[0;34m)\u001b[0m\u001b[0;34m\u001b[0m\u001b[0;34m\u001b[0m\u001b[0m\n\u001b[0m\u001b[1;32m   3836\u001b[0m \u001b[0;34m\u001b[0m\u001b[0m\n\u001b[1;32m   3837\u001b[0m     \u001b[0;31m# Static helpers\u001b[0m\u001b[0;34m\u001b[0m\u001b[0;34m\u001b[0m\u001b[0m\n",
            "\u001b[0;32m/usr/local/lib/python3.11/dist-packages/plotly/io/_kaleido.py\u001b[0m in \u001b[0;36mwrite_image\u001b[0;34m(fig, file, format, scale, width, height, validate, engine)\u001b[0m\n\u001b[1;32m    264\u001b[0m     \u001b[0;31m# -------------\u001b[0m\u001b[0;34m\u001b[0m\u001b[0;34m\u001b[0m\u001b[0m\n\u001b[1;32m    265\u001b[0m     \u001b[0;31m# Do this first so we don't create a file if image conversion fails\u001b[0m\u001b[0;34m\u001b[0m\u001b[0;34m\u001b[0m\u001b[0m\n\u001b[0;32m--> 266\u001b[0;31m     img_data = to_image(\n\u001b[0m\u001b[1;32m    267\u001b[0m         \u001b[0mfig\u001b[0m\u001b[0;34m,\u001b[0m\u001b[0;34m\u001b[0m\u001b[0;34m\u001b[0m\u001b[0m\n\u001b[1;32m    268\u001b[0m         \u001b[0mformat\u001b[0m\u001b[0;34m=\u001b[0m\u001b[0mformat\u001b[0m\u001b[0;34m,\u001b[0m\u001b[0;34m\u001b[0m\u001b[0;34m\u001b[0m\u001b[0m\n",
            "\u001b[0;32m/usr/local/lib/python3.11/dist-packages/plotly/io/_kaleido.py\u001b[0m in \u001b[0;36mto_image\u001b[0;34m(fig, format, width, height, scale, validate, engine)\u001b[0m\n\u001b[1;32m    130\u001b[0m     \u001b[0;31m# Raise informative error message if Kaleido is not installed\u001b[0m\u001b[0;34m\u001b[0m\u001b[0;34m\u001b[0m\u001b[0m\n\u001b[1;32m    131\u001b[0m     \u001b[0;32mif\u001b[0m \u001b[0mscope\u001b[0m \u001b[0;32mis\u001b[0m \u001b[0;32mNone\u001b[0m\u001b[0;34m:\u001b[0m\u001b[0;34m\u001b[0m\u001b[0;34m\u001b[0m\u001b[0m\n\u001b[0;32m--> 132\u001b[0;31m         raise ValueError(\n\u001b[0m\u001b[1;32m    133\u001b[0m             \"\"\"\n\u001b[1;32m    134\u001b[0m \u001b[0mImage\u001b[0m \u001b[0mexport\u001b[0m \u001b[0musing\u001b[0m \u001b[0mthe\u001b[0m \u001b[0;34m\"kaleido\"\u001b[0m \u001b[0mengine\u001b[0m \u001b[0mrequires\u001b[0m \u001b[0mthe\u001b[0m \u001b[0mkaleido\u001b[0m \u001b[0mpackage\u001b[0m\u001b[0;34m,\u001b[0m\u001b[0;34m\u001b[0m\u001b[0;34m\u001b[0m\u001b[0m\n",
            "\u001b[0;31mValueError\u001b[0m: \nImage export using the \"kaleido\" engine requires the kaleido package,\nwhich can be installed using pip:\n    $ pip install -U kaleido\n"
          ]
        }
      ]
    },
    {
      "cell_type": "code",
      "source": [],
      "metadata": {
        "id": "NIsddA2cbyDf"
      },
      "execution_count": null,
      "outputs": []
    }
  ],
  "metadata": {
    "language_info": {
      "name": "python"
    },
    "colab": {
      "provenance": [],
      "toc_visible": true
    },
    "kernelspec": {
      "name": "python3",
      "display_name": "Python 3"
    }
  },
  "nbformat": 4,
  "nbformat_minor": 0
}